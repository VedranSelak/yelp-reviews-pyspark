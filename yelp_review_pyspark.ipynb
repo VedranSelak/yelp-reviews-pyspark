{
 "cells": [
  {
   "cell_type": "code",
   "execution_count": 1,
   "id": "b31c7165",
   "metadata": {},
   "outputs": [
    {
     "data": {
      "text/plain": [
       "1671298394.6226265"
      ]
     },
     "execution_count": 1,
     "metadata": {},
     "output_type": "execute_result"
    }
   ],
   "source": [
    "import pandas as pd\n",
    "import time as time\n",
    "time.time()"
   ]
  },
  {
   "cell_type": "code",
   "execution_count": 2,
   "id": "a8f792d4",
   "metadata": {},
   "outputs": [],
   "source": [
    "def read_json_file(path):\n",
    "    df = pd.DataFrame()\n",
    "    with pd.read_json(path, lines = True, chunksize =2000000) as df_json:\n",
    "        for r in df_json:\n",
    "            df = r\n",
    "            break;\n",
    "    return df"
   ]
  },
  {
   "cell_type": "code",
   "execution_count": 3,
   "id": "fcbae52b",
   "metadata": {},
   "outputs": [
    {
     "data": {
      "text/html": [
       "<div>\n",
       "<style scoped>\n",
       "    .dataframe tbody tr th:only-of-type {\n",
       "        vertical-align: middle;\n",
       "    }\n",
       "\n",
       "    .dataframe tbody tr th {\n",
       "        vertical-align: top;\n",
       "    }\n",
       "\n",
       "    .dataframe thead th {\n",
       "        text-align: right;\n",
       "    }\n",
       "</style>\n",
       "<table border=\"1\" class=\"dataframe\">\n",
       "  <thead>\n",
       "    <tr style=\"text-align: right;\">\n",
       "      <th></th>\n",
       "      <th>review_id</th>\n",
       "      <th>user_id</th>\n",
       "      <th>business_id</th>\n",
       "      <th>stars</th>\n",
       "      <th>useful</th>\n",
       "      <th>funny</th>\n",
       "      <th>cool</th>\n",
       "      <th>text</th>\n",
       "      <th>date</th>\n",
       "    </tr>\n",
       "  </thead>\n",
       "  <tbody>\n",
       "    <tr>\n",
       "      <th>0</th>\n",
       "      <td>KU_O5udG6zpxOg-VcAEodg</td>\n",
       "      <td>mh_-eMZ6K5RLWhZyISBhwA</td>\n",
       "      <td>XQfwVwDr-v0ZS3_CbbE5Xw</td>\n",
       "      <td>3</td>\n",
       "      <td>0</td>\n",
       "      <td>0</td>\n",
       "      <td>0</td>\n",
       "      <td>If you decide to eat here, just be aware it is...</td>\n",
       "      <td>2018-07-07 22:09:11</td>\n",
       "    </tr>\n",
       "    <tr>\n",
       "      <th>1</th>\n",
       "      <td>BiTunyQ73aT9WBnpR9DZGw</td>\n",
       "      <td>OyoGAe7OKpv6SyGZT5g77Q</td>\n",
       "      <td>7ATYjTIgM3jUlt4UM3IypQ</td>\n",
       "      <td>5</td>\n",
       "      <td>1</td>\n",
       "      <td>0</td>\n",
       "      <td>1</td>\n",
       "      <td>I've taken a lot of spin classes over the year...</td>\n",
       "      <td>2012-01-03 15:28:18</td>\n",
       "    </tr>\n",
       "    <tr>\n",
       "      <th>2</th>\n",
       "      <td>saUsX_uimxRlCVr67Z4Jig</td>\n",
       "      <td>8g_iMtfSiwikVnbP2etR0A</td>\n",
       "      <td>YjUWPpI6HXG530lwP-fb2A</td>\n",
       "      <td>3</td>\n",
       "      <td>0</td>\n",
       "      <td>0</td>\n",
       "      <td>0</td>\n",
       "      <td>Family diner. Had the buffet. Eclectic assortm...</td>\n",
       "      <td>2014-02-05 20:30:30</td>\n",
       "    </tr>\n",
       "    <tr>\n",
       "      <th>3</th>\n",
       "      <td>AqPFMleE6RsU23_auESxiA</td>\n",
       "      <td>_7bHUi9Uuf5__HHc_Q8guQ</td>\n",
       "      <td>kxX2SOes4o-D3ZQBkiMRfA</td>\n",
       "      <td>5</td>\n",
       "      <td>1</td>\n",
       "      <td>0</td>\n",
       "      <td>1</td>\n",
       "      <td>Wow!  Yummy, different,  delicious.   Our favo...</td>\n",
       "      <td>2015-01-04 00:01:03</td>\n",
       "    </tr>\n",
       "    <tr>\n",
       "      <th>4</th>\n",
       "      <td>Sx8TMOWLNuJBWer-0pcmoA</td>\n",
       "      <td>bcjbaE6dDog4jkNY91ncLQ</td>\n",
       "      <td>e4Vwtrqf-wpJfwesgvdgxQ</td>\n",
       "      <td>4</td>\n",
       "      <td>1</td>\n",
       "      <td>0</td>\n",
       "      <td>1</td>\n",
       "      <td>Cute interior and owner (?) gave us tour of up...</td>\n",
       "      <td>2017-01-14 20:54:15</td>\n",
       "    </tr>\n",
       "  </tbody>\n",
       "</table>\n",
       "</div>"
      ],
      "text/plain": [
       "                review_id                 user_id             business_id  \\\n",
       "0  KU_O5udG6zpxOg-VcAEodg  mh_-eMZ6K5RLWhZyISBhwA  XQfwVwDr-v0ZS3_CbbE5Xw   \n",
       "1  BiTunyQ73aT9WBnpR9DZGw  OyoGAe7OKpv6SyGZT5g77Q  7ATYjTIgM3jUlt4UM3IypQ   \n",
       "2  saUsX_uimxRlCVr67Z4Jig  8g_iMtfSiwikVnbP2etR0A  YjUWPpI6HXG530lwP-fb2A   \n",
       "3  AqPFMleE6RsU23_auESxiA  _7bHUi9Uuf5__HHc_Q8guQ  kxX2SOes4o-D3ZQBkiMRfA   \n",
       "4  Sx8TMOWLNuJBWer-0pcmoA  bcjbaE6dDog4jkNY91ncLQ  e4Vwtrqf-wpJfwesgvdgxQ   \n",
       "\n",
       "   stars  useful  funny  cool  \\\n",
       "0      3       0      0     0   \n",
       "1      5       1      0     1   \n",
       "2      3       0      0     0   \n",
       "3      5       1      0     1   \n",
       "4      4       1      0     1   \n",
       "\n",
       "                                                text                date  \n",
       "0  If you decide to eat here, just be aware it is... 2018-07-07 22:09:11  \n",
       "1  I've taken a lot of spin classes over the year... 2012-01-03 15:28:18  \n",
       "2  Family diner. Had the buffet. Eclectic assortm... 2014-02-05 20:30:30  \n",
       "3  Wow!  Yummy, different,  delicious.   Our favo... 2015-01-04 00:01:03  \n",
       "4  Cute interior and owner (?) gave us tour of up... 2017-01-14 20:54:15  "
      ]
     },
     "execution_count": 3,
     "metadata": {},
     "output_type": "execute_result"
    }
   ],
   "source": [
    "reviews_df = read_json_file('yelp_academic_dataset_review.json')\n",
    "reviews_df.head()"
   ]
  },
  {
   "cell_type": "code",
   "execution_count": 4,
   "id": "3469ef09",
   "metadata": {},
   "outputs": [
    {
     "name": "stdout",
     "output_type": "stream",
     "text": [
      "<class 'pandas.core.frame.DataFrame'>\n",
      "RangeIndex: 2000000 entries, 0 to 1999999\n",
      "Data columns (total 9 columns):\n",
      " #   Column       Dtype         \n",
      "---  ------       -----         \n",
      " 0   review_id    object        \n",
      " 1   user_id      object        \n",
      " 2   business_id  object        \n",
      " 3   stars        int64         \n",
      " 4   useful       int64         \n",
      " 5   funny        int64         \n",
      " 6   cool         int64         \n",
      " 7   text         object        \n",
      " 8   date         datetime64[ns]\n",
      "dtypes: datetime64[ns](1), int64(4), object(4)\n",
      "memory usage: 137.3+ MB\n"
     ]
    }
   ],
   "source": [
    "reviews_df.info()"
   ]
  },
  {
   "cell_type": "code",
   "execution_count": 5,
   "id": "74d20651",
   "metadata": {},
   "outputs": [
    {
     "data": {
      "text/plain": [
       "0"
      ]
     },
     "execution_count": 5,
     "metadata": {},
     "output_type": "execute_result"
    }
   ],
   "source": [
    "# number of null values\n",
    "reviews_df.isna().sum().sum()"
   ]
  },
  {
   "cell_type": "code",
   "execution_count": 6,
   "id": "392953d9",
   "metadata": {},
   "outputs": [
    {
     "data": {
      "text/html": [
       "<div>\n",
       "<style scoped>\n",
       "    .dataframe tbody tr th:only-of-type {\n",
       "        vertical-align: middle;\n",
       "    }\n",
       "\n",
       "    .dataframe tbody tr th {\n",
       "        vertical-align: top;\n",
       "    }\n",
       "\n",
       "    .dataframe thead th {\n",
       "        text-align: right;\n",
       "    }\n",
       "</style>\n",
       "<table border=\"1\" class=\"dataframe\">\n",
       "  <thead>\n",
       "    <tr style=\"text-align: right;\">\n",
       "      <th></th>\n",
       "      <th>stars</th>\n",
       "      <th>text</th>\n",
       "    </tr>\n",
       "  </thead>\n",
       "  <tbody>\n",
       "    <tr>\n",
       "      <th>0</th>\n",
       "      <td>3</td>\n",
       "      <td>If you decide to eat here, just be aware it is...</td>\n",
       "    </tr>\n",
       "    <tr>\n",
       "      <th>1</th>\n",
       "      <td>5</td>\n",
       "      <td>I've taken a lot of spin classes over the year...</td>\n",
       "    </tr>\n",
       "    <tr>\n",
       "      <th>2</th>\n",
       "      <td>3</td>\n",
       "      <td>Family diner. Had the buffet. Eclectic assortm...</td>\n",
       "    </tr>\n",
       "    <tr>\n",
       "      <th>3</th>\n",
       "      <td>5</td>\n",
       "      <td>Wow!  Yummy, different,  delicious.   Our favo...</td>\n",
       "    </tr>\n",
       "    <tr>\n",
       "      <th>4</th>\n",
       "      <td>4</td>\n",
       "      <td>Cute interior and owner (?) gave us tour of up...</td>\n",
       "    </tr>\n",
       "  </tbody>\n",
       "</table>\n",
       "</div>"
      ],
      "text/plain": [
       "   stars                                               text\n",
       "0      3  If you decide to eat here, just be aware it is...\n",
       "1      5  I've taken a lot of spin classes over the year...\n",
       "2      3  Family diner. Had the buffet. Eclectic assortm...\n",
       "3      5  Wow!  Yummy, different,  delicious.   Our favo...\n",
       "4      4  Cute interior and owner (?) gave us tour of up..."
      ]
     },
     "execution_count": 6,
     "metadata": {},
     "output_type": "execute_result"
    }
   ],
   "source": [
    "reviews_df = reviews_df[[\"stars\", \"text\"]]\n",
    "reviews_df.head()"
   ]
  },
  {
   "cell_type": "code",
   "execution_count": 7,
   "id": "614bf337",
   "metadata": {},
   "outputs": [
    {
     "data": {
      "text/html": [
       "<div>\n",
       "<style scoped>\n",
       "    .dataframe tbody tr th:only-of-type {\n",
       "        vertical-align: middle;\n",
       "    }\n",
       "\n",
       "    .dataframe tbody tr th {\n",
       "        vertical-align: top;\n",
       "    }\n",
       "\n",
       "    .dataframe thead th {\n",
       "        text-align: right;\n",
       "    }\n",
       "</style>\n",
       "<table border=\"1\" class=\"dataframe\">\n",
       "  <thead>\n",
       "    <tr style=\"text-align: right;\">\n",
       "      <th></th>\n",
       "      <th>stars</th>\n",
       "      <th>text</th>\n",
       "    </tr>\n",
       "  </thead>\n",
       "  <tbody>\n",
       "    <tr>\n",
       "      <th>0</th>\n",
       "      <td>3</td>\n",
       "      <td>If you decide to eat here, just be aware it is...</td>\n",
       "    </tr>\n",
       "    <tr>\n",
       "      <th>1</th>\n",
       "      <td>5</td>\n",
       "      <td>I've taken a lot of spin classes over the year...</td>\n",
       "    </tr>\n",
       "    <tr>\n",
       "      <th>2</th>\n",
       "      <td>3</td>\n",
       "      <td>Family diner. Had the buffet. Eclectic assortm...</td>\n",
       "    </tr>\n",
       "    <tr>\n",
       "      <th>3</th>\n",
       "      <td>5</td>\n",
       "      <td>Wow!  Yummy, different,  delicious.   Our favo...</td>\n",
       "    </tr>\n",
       "    <tr>\n",
       "      <th>4</th>\n",
       "      <td>4</td>\n",
       "      <td>Cute interior and owner (?) gave us tour of up...</td>\n",
       "    </tr>\n",
       "  </tbody>\n",
       "</table>\n",
       "</div>"
      ],
      "text/plain": [
       "   stars                                               text\n",
       "0      3  If you decide to eat here, just be aware it is...\n",
       "1      5  I've taken a lot of spin classes over the year...\n",
       "2      3  Family diner. Had the buffet. Eclectic assortm...\n",
       "3      5  Wow!  Yummy, different,  delicious.   Our favo...\n",
       "4      4  Cute interior and owner (?) gave us tour of up..."
      ]
     },
     "execution_count": 7,
     "metadata": {},
     "output_type": "execute_result"
    }
   ],
   "source": [
    "# replacing carriage return and new line characters with a space\n",
    "reviews_df = reviews_df.replace({r'[\\r\\n]': ' '}, regex=True)\n",
    "reviews_df.head()"
   ]
  },
  {
   "cell_type": "code",
   "execution_count": 8,
   "id": "97fd07bb",
   "metadata": {},
   "outputs": [
    {
     "data": {
      "text/plain": [
       "(2000000, 2)"
      ]
     },
     "execution_count": 8,
     "metadata": {},
     "output_type": "execute_result"
    }
   ],
   "source": [
    "reviews_df.shape"
   ]
  },
  {
   "cell_type": "markdown",
   "id": "e9ed4ccd",
   "metadata": {},
   "source": [
    "## Initialize spark"
   ]
  },
  {
   "cell_type": "code",
   "execution_count": 9,
   "id": "1c9a4826",
   "metadata": {},
   "outputs": [],
   "source": [
    "# find spark\n",
    "import findspark\n",
    "findspark.init()\n",
    "\n",
    "# override cloudpickle in order for reading to work\n",
    "import cloudpickle\n",
    "import pyspark.serializers\n",
    "pyspark.serializers.cloudpickle = cloudpickle\n",
    "import pyspark.sql.functions as f\n",
    "from pyspark.ml.feature import Tokenizer, HashingTF, IDF, CountVectorizer\n",
    "from pyspark.mllib.linalg import SparseVector, DenseVector\n",
    "from pyspark.mllib.linalg import Vector"
   ]
  },
  {
   "cell_type": "code",
   "execution_count": 10,
   "id": "931b68b0",
   "metadata": {},
   "outputs": [],
   "source": [
    "# start session\n",
    "from pyspark.sql import SparkSession\n",
    "spark = SparkSession.builder.master(\"local\").config(\"spark.driver.memory\", \"15g\").appName(\"YeplReviews\").getOrCreate()\n",
    "sc = spark.sparkContext"
   ]
  },
  {
   "cell_type": "code",
   "execution_count": 11,
   "id": "77552488",
   "metadata": {},
   "outputs": [
    {
     "name": "stderr",
     "output_type": "stream",
     "text": [
      "C:\\apps\\spark-3.3.1-bin-hadoop3\\python\\pyspark\\sql\\pandas\\conversion.py:474: FutureWarning: iteritems is deprecated and will be removed in a future version. Use .items instead.\n",
      "  for column, series in pdf.iteritems():\n",
      "C:\\apps\\spark-3.3.1-bin-hadoop3\\python\\pyspark\\sql\\pandas\\conversion.py:486: FutureWarning: iteritems is deprecated and will be removed in a future version. Use .items instead.\n",
      "  for column, series in pdf.iteritems():\n"
     ]
    },
    {
     "name": "stdout",
     "output_type": "stream",
     "text": [
      "+-----+-------------------------------------------------------------------------------------------------------------------------------------------------------------------------------------------------------------------------------------------------------------------------------------------------------------------------------------------------------------------------------------------------------------------------------------------------------------------------------------------------------------------------------------------------------------------------------------------------------------------------------------------------------------------------------------------------------------------------------------------------------------------------------------------------------------------------------------------------------------+\n",
      "|stars|text                                                                                                                                                                                                                                                                                                                                                                                                                                                                                                                                                                                                                                                                                                                                                                                                                                                         |\n",
      "+-----+-------------------------------------------------------------------------------------------------------------------------------------------------------------------------------------------------------------------------------------------------------------------------------------------------------------------------------------------------------------------------------------------------------------------------------------------------------------------------------------------------------------------------------------------------------------------------------------------------------------------------------------------------------------------------------------------------------------------------------------------------------------------------------------------------------------------------------------------------------------+\n",
      "|3    |If you decide to eat here, just be aware it is going to take about 2 hours from beginning to end. We have tried it multiple times, because I want to like it! I have been to it's other locations in NJ and never had a bad experience.   The food is good, but it takes a very long time to come out. The waitstaff is very young, but usually pleasant. We have just had too many experiences where we spent way too long waiting. We usually opt for another diner or restaurant on the weekends, in order to be done quicker.                                                                                                                                                                                                                                                                                                                            |\n",
      "|5    |I've taken a lot of spin classes over the years, and nothing compares to the classes at Body Cycle. From the nice, clean space and amazing bikes, to the welcoming and motivating instructors, every class is a top notch work out.  For anyone who struggles to fit workouts in, the online scheduling system makes it easy to plan ahead (and there's no need to line up way in advanced like many gyms make you do).  There is no way I can write this review without giving Russell, the owner of Body Cycle, a shout out. Russell's passion for fitness and cycling is so evident, as is his desire for all of his clients to succeed. He is always dropping in to classes to check in/provide encouragement, and is open to ideas and recommendations from anyone. Russell always wears a smile on his face, even when he's kicking your butt in class!|\n",
      "|3    |Family diner. Had the buffet. Eclectic assortment: a large chicken leg, fried jalapeño, tamale, two rolled grape leaves, fresh melon. All good. Lots of Mexican choices there. Also has a menu with breakfast served all day long. Friendly, attentive staff. Good place for a casual relaxed meal with no expectations. Next to the Clarion Hotel.                                                                                                                                                                                                                                                                                                                                                                                                                                                                                                          |\n",
      "|5    |Wow!  Yummy, different,  delicious.   Our favorite is the lamb curry and korma.  With 10 different kinds of naan!!!  Don't let the outside deter you (because we almost changed our minds)...go in and try something new!   You'll be glad you did!                                                                                                                                                                                                                                                                                                                                                                                                                                                                                                                                                                                                          |\n",
      "|4    |Cute interior and owner (?) gave us tour of upcoming patio/rooftop area which will be great on beautiful days like today. Cheese curds were very good and very filling. Really like that sandwiches come w salad, esp after eating too many curds! Had the onion, gruyere, tomato sandwich. Wasn't too much cheese which I liked. Needed something else...pepper jelly maybe. Would like to see more menu options added such as salads w fun cheeses. Lots of beer and wine as well as limited cocktails. Next time I will try one of the draft wines.                                                                                                                                                                                                                                                                                                       |\n",
      "+-----+-------------------------------------------------------------------------------------------------------------------------------------------------------------------------------------------------------------------------------------------------------------------------------------------------------------------------------------------------------------------------------------------------------------------------------------------------------------------------------------------------------------------------------------------------------------------------------------------------------------------------------------------------------------------------------------------------------------------------------------------------------------------------------------------------------------------------------------------------------------+\n",
      "only showing top 5 rows\n",
      "\n"
     ]
    }
   ],
   "source": [
    "# Converting Pandas Dataframe into Spark Dataframe\n",
    "reviews_df = reviews_df.astype(str) # Converting pandas df to string first\n",
    "reviews_sdf = spark.createDataFrame(reviews_df)\n",
    "reviews_sdf.show(5, False)"
   ]
  },
  {
   "cell_type": "code",
   "execution_count": 12,
   "id": "c6756a74",
   "metadata": {},
   "outputs": [
    {
     "name": "stdout",
     "output_type": "stream",
     "text": [
      "root\n",
      " |-- stars: string (nullable = true)\n",
      " |-- text: string (nullable = true)\n",
      "\n"
     ]
    }
   ],
   "source": [
    "reviews_sdf.printSchema()"
   ]
  },
  {
   "cell_type": "code",
   "execution_count": 13,
   "id": "00841d24",
   "metadata": {},
   "outputs": [
    {
     "name": "stdout",
     "output_type": "stream",
     "text": [
      "+-----+-------------------------------------------------------------------------------------------------------------------------------------------------------------------------------------------------------------------------------------------------------------------------------------------------------------------------------------------------------------------------------------------------------------------------------------------------------------------------------------------------------------------------------------------------------------------------------------------------------------------------------------------------------------------------------------------------------------------------------------------------------------------------------------------------------------------------------------------------------------+-----------------------------------------------------------------------------------------------------------------------------------------------------------------------------------------------------------------------------------------------------------------------------------------------------------------------------------------------------------------------------------------------------------------------------------------------------------------------------------------------------------------------------------------------------------------------------------------------------------------------------------------------------------------------------------------------------------------------------------------------------------------------------------------------------------------------------------------------------------------------------------------------------------------------------------------------------------------------------------------------------------------------+\n",
      "|stars|text                                                                                                                                                                                                                                                                                                                                                                                                                                                                                                                                                                                                                                                                                                                                                                                                                                                         |words                                                                                                                                                                                                                                                                                                                                                                                                                                                                                                                                                                                                                                                                                                                                                                                                                                                                                                                                                                                                                  |\n",
      "+-----+-------------------------------------------------------------------------------------------------------------------------------------------------------------------------------------------------------------------------------------------------------------------------------------------------------------------------------------------------------------------------------------------------------------------------------------------------------------------------------------------------------------------------------------------------------------------------------------------------------------------------------------------------------------------------------------------------------------------------------------------------------------------------------------------------------------------------------------------------------------+-----------------------------------------------------------------------------------------------------------------------------------------------------------------------------------------------------------------------------------------------------------------------------------------------------------------------------------------------------------------------------------------------------------------------------------------------------------------------------------------------------------------------------------------------------------------------------------------------------------------------------------------------------------------------------------------------------------------------------------------------------------------------------------------------------------------------------------------------------------------------------------------------------------------------------------------------------------------------------------------------------------------------+\n",
      "|3    |If you decide to eat here, just be aware it is going to take about 2 hours from beginning to end. We have tried it multiple times, because I want to like it! I have been to it's other locations in NJ and never had a bad experience.   The food is good, but it takes a very long time to come out. The waitstaff is very young, but usually pleasant. We have just had too many experiences where we spent way too long waiting. We usually opt for another diner or restaurant on the weekends, in order to be done quicker.                                                                                                                                                                                                                                                                                                                            |[if, you, decide, to, eat, here,, just, be, aware, it, is, going, to, take, about, 2, hours, from, beginning, to, end., we, have, tried, it, multiple, times,, because, i, want, to, like, it!, i, have, been, to, it's, other, locations, in, nj, and, never, had, a, bad, experience., , , the, food, is, good,, but, it, takes, a, very, long, time, to, come, out., the, waitstaff, is, very, young,, but, usually, pleasant., we, have, just, had, too, many, experiences, where, we, spent, way, too, long, waiting., we, usually, opt, for, another, diner, or, restaurant, on, the, weekends,, in, order, to, be, done, quicker.]                                                                                                                                                                                                                                                                                                                                                                              |\n",
      "|5    |I've taken a lot of spin classes over the years, and nothing compares to the classes at Body Cycle. From the nice, clean space and amazing bikes, to the welcoming and motivating instructors, every class is a top notch work out.  For anyone who struggles to fit workouts in, the online scheduling system makes it easy to plan ahead (and there's no need to line up way in advanced like many gyms make you do).  There is no way I can write this review without giving Russell, the owner of Body Cycle, a shout out. Russell's passion for fitness and cycling is so evident, as is his desire for all of his clients to succeed. He is always dropping in to classes to check in/provide encouragement, and is open to ideas and recommendations from anyone. Russell always wears a smile on his face, even when he's kicking your butt in class!|[i've, taken, a, lot, of, spin, classes, over, the, years,, and, nothing, compares, to, the, classes, at, body, cycle., from, the, nice,, clean, space, and, amazing, bikes,, to, the, welcoming, and, motivating, instructors,, every, class, is, a, top, notch, work, out., , for, anyone, who, struggles, to, fit, workouts, in,, the, online, scheduling, system, makes, it, easy, to, plan, ahead, (and, there's, no, need, to, line, up, way, in, advanced, like, many, gyms, make, you, do)., , there, is, no, way, i, can, write, this, review, without, giving, russell,, the, owner, of, body, cycle,, a, shout, out., russell's, passion, for, fitness, and, cycling, is, so, evident,, as, is, his, desire, for, all, of, his, clients, to, succeed., he, is, always, dropping, in, to, classes, to, check, in/provide, encouragement,, and, is, open, to, ideas, and, recommendations, from, anyone., russell, always, wears, a, smile, on, his, face,, even, when, he's, kicking, your, butt, in, class!]|\n",
      "|3    |Family diner. Had the buffet. Eclectic assortment: a large chicken leg, fried jalapeño, tamale, two rolled grape leaves, fresh melon. All good. Lots of Mexican choices there. Also has a menu with breakfast served all day long. Friendly, attentive staff. Good place for a casual relaxed meal with no expectations. Next to the Clarion Hotel.                                                                                                                                                                                                                                                                                                                                                                                                                                                                                                          |[family, diner., had, the, buffet., eclectic, assortment:, a, large, chicken, leg,, fried, jalapeño,, tamale,, two, rolled, grape, leaves,, fresh, melon., all, good., lots, of, mexican, choices, there., also, has, a, menu, with, breakfast, served, all, day, long., friendly,, attentive, staff., good, place, for, a, casual, relaxed, meal, with, no, expectations., next, to, the, clarion, hotel.]                                                                                                                                                                                                                                                                                                                                                                                                                                                                                                                                                                                                            |\n",
      "|5    |Wow!  Yummy, different,  delicious.   Our favorite is the lamb curry and korma.  With 10 different kinds of naan!!!  Don't let the outside deter you (because we almost changed our minds)...go in and try something new!   You'll be glad you did!                                                                                                                                                                                                                                                                                                                                                                                                                                                                                                                                                                                                          |[wow!, , yummy,, different,, , delicious., , , our, favorite, is, the, lamb, curry, and, korma., , with, 10, different, kinds, of, naan!!!, , don't, let, the, outside, deter, you, (because, we, almost, changed, our, minds)...go, in, and, try, something, new!, , , you'll, be, glad, you, did!]                                                                                                                                                                                                                                                                                                                                                                                                                                                                                                                                                                                                                                                                                                                   |\n",
      "|4    |Cute interior and owner (?) gave us tour of upcoming patio/rooftop area which will be great on beautiful days like today. Cheese curds were very good and very filling. Really like that sandwiches come w salad, esp after eating too many curds! Had the onion, gruyere, tomato sandwich. Wasn't too much cheese which I liked. Needed something else...pepper jelly maybe. Would like to see more menu options added such as salads w fun cheeses. Lots of beer and wine as well as limited cocktails. Next time I will try one of the draft wines.                                                                                                                                                                                                                                                                                                       |[cute, interior, and, owner, (?), gave, us, tour, of, upcoming, patio/rooftop, area, which, will, be, great, on, beautiful, days, like, today., cheese, curds, were, very, good, and, very, filling., really, like, that, sandwiches, come, w, salad,, esp, after, eating, too, many, curds!, had, the, onion,, gruyere,, tomato, sandwich., wasn't, too, much, cheese, which, i, liked., needed, something, else...pepper, jelly, maybe., would, like, to, see, more, menu, options, added, such, as, salads, w, fun, cheeses., lots, of, beer, and, wine, as, well, as, limited, cocktails., next, time, i, will, try, one, of, the, draft, wines.]                                                                                                                                                                                                                                                                                                                                                                  |\n",
      "+-----+-------------------------------------------------------------------------------------------------------------------------------------------------------------------------------------------------------------------------------------------------------------------------------------------------------------------------------------------------------------------------------------------------------------------------------------------------------------------------------------------------------------------------------------------------------------------------------------------------------------------------------------------------------------------------------------------------------------------------------------------------------------------------------------------------------------------------------------------------------------+-----------------------------------------------------------------------------------------------------------------------------------------------------------------------------------------------------------------------------------------------------------------------------------------------------------------------------------------------------------------------------------------------------------------------------------------------------------------------------------------------------------------------------------------------------------------------------------------------------------------------------------------------------------------------------------------------------------------------------------------------------------------------------------------------------------------------------------------------------------------------------------------------------------------------------------------------------------------------------------------------------------------------+\n",
      "only showing top 5 rows\n",
      "\n"
     ]
    }
   ],
   "source": [
    "tokenizer = Tokenizer()\n",
    "tokenizer.setInputCol('text').setOutputCol('words')\n",
    "reviews_sdf2 = tokenizer.transform(reviews_sdf)\n",
    "reviews_sdf2.show(5, False)"
   ]
  },
  {
   "cell_type": "code",
   "execution_count": 14,
   "id": "66d25294",
   "metadata": {},
   "outputs": [
    {
     "data": {
      "text/plain": [
       "Row(stars='3', text=\"If you decide to eat here, just be aware it is going to take about 2 hours from beginning to end. We have tried it multiple times, because I want to like it! I have been to it's other locations in NJ and never had a bad experience.   The food is good, but it takes a very long time to come out. The waitstaff is very young, but usually pleasant. We have just had too many experiences where we spent way too long waiting. We usually opt for another diner or restaurant on the weekends, in order to be done quicker.\", words=['if', 'you', 'decide', 'to', 'eat', 'here,', 'just', 'be', 'aware', 'it', 'is', 'going', 'to', 'take', 'about', '2', 'hours', 'from', 'beginning', 'to', 'end.', 'we', 'have', 'tried', 'it', 'multiple', 'times,', 'because', 'i', 'want', 'to', 'like', 'it!', 'i', 'have', 'been', 'to', \"it's\", 'other', 'locations', 'in', 'nj', 'and', 'never', 'had', 'a', 'bad', 'experience.', '', '', 'the', 'food', 'is', 'good,', 'but', 'it', 'takes', 'a', 'very', 'long', 'time', 'to', 'come', 'out.', 'the', 'waitstaff', 'is', 'very', 'young,', 'but', 'usually', 'pleasant.', 'we', 'have', 'just', 'had', 'too', 'many', 'experiences', 'where', 'we', 'spent', 'way', 'too', 'long', 'waiting.', 'we', 'usually', 'opt', 'for', 'another', 'diner', 'or', 'restaurant', 'on', 'the', 'weekends,', 'in', 'order', 'to', 'be', 'done', 'quicker.'], features=SparseVector(262144, {0: 3.0, 1: 1.0, 2: 2.0, 3: 2.0, 4: 2.0, 5: 7.0, 8: 3.0, 9: 1.0, 10: 2.0, 11: 3.0, 13: 4.0, 18: 2.0, 19: 1.0, 20: 1.0, 21: 3.0, 22: 2.0, 28: 2.0, 30: 2.0, 31: 1.0, 35: 1.0, 37: 2.0, 41: 1.0, 45: 1.0, 50: 1.0, 51: 1.0, 55: 1.0, 56: 1.0, 60: 1.0, 74: 1.0, 79: 1.0, 93: 1.0, 103: 1.0, 105: 1.0, 118: 1.0, 119: 1.0, 121: 2.0, 129: 1.0, 140: 1.0, 144: 1.0, 154: 1.0, 157: 1.0, 168: 1.0, 175: 1.0, 182: 1.0, 184: 1.0, 194: 2.0, 216: 1.0, 266: 1.0, 320: 1.0, 327: 1.0, 339: 2.0, 363: 1.0, 449: 1.0, 535: 1.0, 565: 1.0, 817: 1.0, 819: 1.0, 825: 1.0, 1274: 1.0, 1409: 1.0, 1426: 1.0, 1620: 1.0, 1874: 1.0, 2230: 1.0, 2409: 1.0, 2441: 1.0, 2722: 1.0, 2893: 1.0, 3150: 1.0, 5286: 1.0, 5333: 1.0, 6191: 1.0, 9060: 1.0, 17636: 1.0}))"
      ]
     },
     "execution_count": 14,
     "metadata": {},
     "output_type": "execute_result"
    }
   ],
   "source": [
    "cv = CountVectorizer()\n",
    "cvModel = cv.setInputCol(\"words\").setOutputCol(\"features\").fit(reviews_sdf2)\n",
    "counted = cvModel.transform(reviews_sdf2)\n",
    "counted.head()"
   ]
  },
  {
   "cell_type": "code",
   "execution_count": 15,
   "id": "e10283a9",
   "metadata": {},
   "outputs": [
    {
     "name": "stdout",
     "output_type": "stream",
     "text": [
      "+-----+-------------------------------------------------------------------------------------------------------------------------------------------------------------------------------------------------------------------------------------------------------------------------------------------------------------------------------------------------------------------------------------------------------------------------------------------------------------------------------------------------------------------------------------------------------------------------------------------------------------------------------------------------------------------------------------------------------------------------------------------------------------------------------------------------------------------------------------------------------------+-----------------------------------------------------------------------------------------------------------------------------------------------------------------------------------------------------------------------------------------------------------------------------------------------------------------------------------------------------------------------------------------------------------------------------------------------------------------------------------------------------------------------------------------------------------------------------------------------------------------------------------------------------------------------------------------------------------------------------------------------------------------------------------------------------------------------------------------------------------------------------------------------------------------------------------------------------------------------------------------------------------------------+-------------------------------------------------------------------------------------------------------------------------------------------------------------------------------------------------------------------------------------------------------------------------------------------------------------------------------------------------------------------------------------------------------------------------------------------------------------------------------------------------------------------------------------------------------------------------------------------------------------------------------------------------------------------------------------------------------------------------------------------------------------------------------------------------------------------------------------------------------------------------------------------------------------------------------------------+------------------------------------------------------------------------------------------------------------------------------------------------------------------------------------------------------------------------------------------------------------------------------------------------------------------------------------------------------------------------------------------------------------------------------------------------------------------------------------------------------------------------------------------------------------------------------------------------------------------------------------------------------------------------------------------------------------------------------------------------------------------------------------------------------------------------------------------------------------------------------------------------------------------------------------------------------------------------------------------------------------------------------------------------------------------------------------------------------------------------------------------------------------------------------------------------------------------------------------------------------------------------------------------------------------------------------------------------------------------+\n",
      "|stars|text                                                                                                                                                                                                                                                                                                                                                                                                                                                                                                                                                                                                                                                                                                                                                                                                                                                         |words                                                                                                                                                                                                                                                                                                                                                                                                                                                                                                                                                                                                                                                                                                                                                                                                                                                                                                                                                                                                                  |features                                                                                                                                                                                                                                                                                                                                                                                                                                                                                                                                                                                                                                                                                                                                                                                                                                                                                                                                   |result                                                                                                                                                                                                                                                                                                                                                                                                                                                                                                                                                                                                                                                                                                                                                                                                                                                                                                                                                                                                                                                                                                                                                                                                                                                                                                                                                            |\n",
      "+-----+-------------------------------------------------------------------------------------------------------------------------------------------------------------------------------------------------------------------------------------------------------------------------------------------------------------------------------------------------------------------------------------------------------------------------------------------------------------------------------------------------------------------------------------------------------------------------------------------------------------------------------------------------------------------------------------------------------------------------------------------------------------------------------------------------------------------------------------------------------------+-----------------------------------------------------------------------------------------------------------------------------------------------------------------------------------------------------------------------------------------------------------------------------------------------------------------------------------------------------------------------------------------------------------------------------------------------------------------------------------------------------------------------------------------------------------------------------------------------------------------------------------------------------------------------------------------------------------------------------------------------------------------------------------------------------------------------------------------------------------------------------------------------------------------------------------------------------------------------------------------------------------------------+-------------------------------------------------------------------------------------------------------------------------------------------------------------------------------------------------------------------------------------------------------------------------------------------------------------------------------------------------------------------------------------------------------------------------------------------------------------------------------------------------------------------------------------------------------------------------------------------------------------------------------------------------------------------------------------------------------------------------------------------------------------------------------------------------------------------------------------------------------------------------------------------------------------------------------------------+------------------------------------------------------------------------------------------------------------------------------------------------------------------------------------------------------------------------------------------------------------------------------------------------------------------------------------------------------------------------------------------------------------------------------------------------------------------------------------------------------------------------------------------------------------------------------------------------------------------------------------------------------------------------------------------------------------------------------------------------------------------------------------------------------------------------------------------------------------------------------------------------------------------------------------------------------------------------------------------------------------------------------------------------------------------------------------------------------------------------------------------------------------------------------------------------------------------------------------------------------------------------------------------------------------------------------------------------------------------+\n",
      "|3    |If you decide to eat here, just be aware it is going to take about 2 hours from beginning to end. We have tried it multiple times, because I want to like it! I have been to it's other locations in NJ and never had a bad experience.   The food is good, but it takes a very long time to come out. The waitstaff is very young, but usually pleasant. We have just had too many experiences where we spent way too long waiting. We usually opt for another diner or restaurant on the weekends, in order to be done quicker.                                                                                                                                                                                                                                                                                                                            |[if, you, decide, to, eat, here,, just, be, aware, it, is, going, to, take, about, 2, hours, from, beginning, to, end., we, have, tried, it, multiple, times,, because, i, want, to, like, it!, i, have, been, to, it's, other, locations, in, nj, and, never, had, a, bad, experience., , , the, food, is, good,, but, it, takes, a, very, long, time, to, come, out., the, waitstaff, is, very, young,, but, usually, pleasant., we, have, just, had, too, many, experiences, where, we, spent, way, too, long, waiting., we, usually, opt, for, another, diner, or, restaurant, on, the, weekends,, in, order, to, be, done, quicker.]                                                                                                                                                                                                                                                                                                                                                                              |(262144,[0,1,2,3,4,5,8,9,10,11,13,18,19,20,21,22,28,30,31,35,37,41,45,50,51,55,56,60,74,79,93,103,105,118,119,121,129,140,144,154,157,168,175,182,184,194,216,266,320,327,339,363,449,535,565,817,819,825,1274,1409,1426,1620,1874,2230,2409,2441,2722,2893,3150,5286,5333,6191,9060,17636],[3.0,1.0,2.0,2.0,2.0,7.0,3.0,1.0,2.0,3.0,4.0,2.0,1.0,1.0,3.0,2.0,2.0,2.0,1.0,1.0,2.0,1.0,1.0,1.0,1.0,1.0,1.0,1.0,1.0,1.0,1.0,1.0,1.0,1.0,1.0,2.0,1.0,1.0,1.0,1.0,1.0,1.0,1.0,1.0,1.0,2.0,1.0,1.0,1.0,1.0,2.0,1.0,1.0,1.0,1.0,1.0,1.0,1.0,1.0,1.0,1.0,1.0,1.0,1.0,1.0,1.0,1.0,1.0,1.0,1.0,1.0,1.0,1.0,1.0])                                                                                                                                                                                                                                                                                                                                     |{but -> 2,  -> 2, very -> 2, been -> 1, bad -> 1, waitstaff -> 1, about -> 1, decide -> 1, had -> 2, tried -> 1, out. -> 1, weekends, -> 1, from -> 1, usually -> 2, because -> 1, end. -> 1, if -> 1, you -> 1, order -> 1, going -> 1, like -> 1, in -> 2, it's -> 1, want -> 1, waiting. -> 1, come -> 1, is -> 3, it -> 3, experiences -> 1, done -> 1, take -> 1, never -> 1, opt -> 1, 2 -> 1, nj -> 1, other -> 1, be -> 2, beginning -> 1, diner -> 1, another -> 1, for -> 1, times, -> 1, long -> 2, we -> 4, pleasant. -> 1, aware -> 1, good, -> 1, here, -> 1, too -> 2, and -> 1, it! -> 1, have -> 3, young, -> 1, eat -> 1, where -> 1, takes -> 1, just -> 2, on -> 1, experience. -> 1, a -> 2, hours -> 1, or -> 1, quicker. -> 1, spent -> 1, restaurant -> 1, multiple -> 1, i -> 2, many -> 1, way -> 1, food -> 1, the -> 3, locations -> 1, time -> 1, to -> 7}                                                                                                                                                                                                                                                                                                                                                                                                                                                                           |\n",
      "|5    |I've taken a lot of spin classes over the years, and nothing compares to the classes at Body Cycle. From the nice, clean space and amazing bikes, to the welcoming and motivating instructors, every class is a top notch work out.  For anyone who struggles to fit workouts in, the online scheduling system makes it easy to plan ahead (and there's no need to line up way in advanced like many gyms make you do).  There is no way I can write this review without giving Russell, the owner of Body Cycle, a shout out. Russell's passion for fitness and cycling is so evident, as is his desire for all of his clients to succeed. He is always dropping in to classes to check in/provide encouragement, and is open to ideas and recommendations from anyone. Russell always wears a smile on his face, even when he's kicking your butt in class!|[i've, taken, a, lot, of, spin, classes, over, the, years,, and, nothing, compares, to, the, classes, at, body, cycle., from, the, nice,, clean, space, and, amazing, bikes,, to, the, welcoming, and, motivating, instructors,, every, class, is, a, top, notch, work, out., , for, anyone, who, struggles, to, fit, workouts, in,, the, online, scheduling, system, makes, it, easy, to, plan, ahead, (and, there's, no, need, to, line, up, way, in, advanced, like, many, gyms, make, you, do)., , there, is, no, way, i, can, write, this, review, without, giving, russell,, the, owner, of, body, cycle,, a, shout, out., russell's, passion, for, fitness, and, cycling, is, so, evident,, as, is, his, desire, for, all, of, his, clients, to, succeed., he, is, always, dropping, in, to, classes, to, check, in/provide, encouragement,, and, is, open, to, ideas, and, recommendations, from, anyone., russell, always, wears, a, smile, on, his, face,, even, when, he's, kicking, your, butt, in, class!]|(262144,[0,1,2,3,4,5,7,8,9,10,11,17,19,20,25,27,29,36,38,41,45,46,57,63,66,67,72,76,84,88,104,110,115,144,147,156,157,186,189,198,205,229,231,258,263,301,327,343,386,388,398,400,420,477,499,666,678,691,743,787,823,833,925,940,982,1176,1254,1314,1439,1502,1616,1860,1868,2082,2155,2256,2360,2750,3341,3732,4192,4551,4775,5195,5275,5661,6233,7996,8336,8628,8727,10026,10027,10894,13340,13770,16914,17299,17721,18772,20930,22639,23051,25476,29884,47000,60842,68331,77620],[6.0,6.0,2.0,1.0,4.0,9.0,3.0,6.0,3.0,3.0,1.0,1.0,1.0,1.0,1.0,1.0,1.0,1.0,1.0,1.0,2.0,1.0,1.0,1.0,2.0,1.0,1.0,1.0,1.0,2.0,1.0,1.0,1.0,2.0,1.0,3.0,1.0,1.0,1.0,1.0,1.0,1.0,1.0,1.0,1.0,1.0,2.0,1.0,1.0,1.0,1.0,1.0,1.0,1.0,1.0,1.0,1.0,1.0,1.0,1.0,1.0,1.0,1.0,1.0,1.0,1.0,1.0,1.0,1.0,1.0,1.0,1.0,2.0,3.0,1.0,1.0,1.0,1.0,1.0,1.0,1.0,1.0,1.0,1.0,1.0,1.0,1.0,1.0,1.0,1.0,1.0,1.0,1.0,1.0,1.0,1.0,1.0,1.0,1.0,1.0,1.0,1.0,1.0,1.0,1.0,1.0,1.0,1.0,1.0])|{ -> 2, advanced -> 1, cycling -> 1, your -> 1, when -> 1, without -> 1, fit -> 1, encouragement, -> 1, review -> 1, write -> 1, plan -> 1, you -> 1, there's -> 1, motivating -> 1, years, -> 1, in -> 3, work -> 1, nothing -> 1, gyms -> 1, is -> 6, it -> 1, easy -> 1, as -> 1, system -> 1, at -> 1, even -> 1, anyone -> 1, notch -> 1, butt -> 1, i've -> 1, russell's -> 1, clients -> 1, ahead -> 1, giving -> 1, nice, -> 1, lot -> 1, instructors, -> 1, top -> 1, russell -> 1, workouts -> 1, taken -> 1, shout -> 1, so -> 1, a -> 4, desire -> 1, wears -> 1, makes -> 1, i -> 1, many -> 1, compares -> 1, the -> 6, spin -> 1, to -> 9, open -> 1, body -> 2, recommendations -> 1, bikes, -> 1, space -> 1, smile -> 1, amazing -> 1, his -> 3, out. -> 2, fitness -> 1, scheduling -> 1, struggles -> 1, welcoming -> 1, from -> 2, up -> 1, passion -> 1, always -> 2, all -> 1, face, -> 1, dropping -> 1, need -> 1, like -> 1, class! -> 1, in, -> 1, this -> 1, ideas -> 1, check -> 1, anyone. -> 1, (and -> 1, who -> 1, cycle, -> 1, no -> 2, line -> 1, classes -> 3, for -> 3, russell, -> 1, cycle. -> 1, kicking -> 1, can -> 1, and -> 6, of -> 3, he's -> 1, class -> 1, every -> 1, make -> 1, succeed. -> 1, do). -> 1, on -> 1, owner -> 1, over -> 1, clean -> 1, way -> 2, there -> 1, online -> 1, he -> 1, evident, -> 1}|\n",
      "|3    |Family diner. Had the buffet. Eclectic assortment: a large chicken leg, fried jalapeño, tamale, two rolled grape leaves, fresh melon. All good. Lots of Mexican choices there. Also has a menu with breakfast served all day long. Friendly, attentive staff. Good place for a casual relaxed meal with no expectations. Next to the Clarion Hotel.                                                                                                                                                                                                                                                                                                                                                                                                                                                                                                          |[family, diner., had, the, buffet., eclectic, assortment:, a, large, chicken, leg,, fried, jalapeño,, tamale,, two, rolled, grape, leaves,, fresh, melon., all, good., lots, of, mexican, choices, there., also, has, a, menu, with, breakfast, served, all, day, long., friendly,, attentive, staff., good, place, for, a, casual, relaxed, meal, with, no, expectations., next, to, the, clarion, hotel.]                                                                                                                                                                                                                                                                                                                                                                                                                                                                                                                                                                                                            |(262144,[0,4,5,7,9,14,22,33,38,40,66,69,80,112,120,131,146,148,176,178,223,246,271,279,289,347,348,438,531,582,627,638,1074,1236,1404,1672,2355,2522,2723,2996,4081,4301,5393,11633,18471,20694,21650,46875,63222],[2.0,3.0,1.0,1.0,1.0,2.0,1.0,1.0,2.0,1.0,1.0,1.0,1.0,1.0,1.0,1.0,1.0,1.0,1.0,1.0,1.0,1.0,1.0,1.0,1.0,1.0,1.0,1.0,1.0,1.0,1.0,1.0,1.0,1.0,1.0,1.0,1.0,1.0,1.0,1.0,1.0,1.0,1.0,1.0,1.0,1.0,1.0,1.0,1.0])                                                                                                                                                                                                                                                                                                                                                                                                                                                                                                                  |{staff. -> 1, attentive -> 1, had -> 1, eclectic -> 1, rolled -> 1, mexican -> 1, good -> 1, clarion -> 1, there. -> 1, long. -> 1, casual -> 1, leaves, -> 1, melon. -> 1, has -> 1, day -> 1, all -> 2, large -> 1, grape -> 1, fried -> 1, hotel. -> 1, served -> 1, buffet. -> 1, choices -> 1, breakfast -> 1, next -> 1, no -> 1, chicken -> 1, for -> 1, two -> 1, good. -> 1, relaxed -> 1, of -> 1, place -> 1, a -> 3, jalapeño, -> 1, diner. -> 1, also -> 1, leg, -> 1, menu -> 1, friendly, -> 1, lots -> 1, meal -> 1, the -> 2, with -> 2, tamale, -> 1, to -> 1, family -> 1, fresh -> 1, expectations. -> 1}                                                                                                                                                                                                                                                                                                                                                                                                                                                                                                                                                                                                                                                                                                                                     |\n",
      "|5    |Wow!  Yummy, different,  delicious.   Our favorite is the lamb curry and korma.  With 10 different kinds of naan!!!  Don't let the outside deter you (because we almost changed our minds)...go in and try something new!   You'll be glad you did!                                                                                                                                                                                                                                                                                                                                                                                                                                                                                                                                                                                                          |[wow!, , yummy,, different,, , delicious., , , our, favorite, is, the, lamb, curry, and, korma., , with, 10, different, kinds, of, naan!!!, , don't, let, the, outside, deter, you, (because, we, almost, changed, our, minds)...go, in, and, try, something, new!, , , you'll, be, glad, you, did!]                                                                                                                                                                                                                                                                                                                                                                                                                                                                                                                                                                                                                                                                                                                   |(262144,[0,1,2,7,8,10,13,14,20,28,32,77,107,185,202,210,261,305,325,365,401,517,630,1011,1049,1150,2145,2306,2935,4872,5061,5339,7929,10218,30003,199983],[2.0,2.0,8.0,1.0,1.0,1.0,1.0,1.0,2.0,1.0,2.0,1.0,1.0,1.0,1.0,1.0,1.0,1.0,1.0,1.0,1.0,1.0,1.0,1.0,1.0,1.0,1.0,1.0,1.0,1.0,1.0,1.0,1.0,1.0,1.0,1.0])                                                                                                                                                                                                                                                                                                                                                                                                                                                                                                                                                                                                                               |{ -> 8, be -> 1, almost -> 1, don't -> 1, kinds -> 1, our -> 2, we -> 1, yummy, -> 1, (because -> 1, wow! -> 1, and -> 2, different, -> 1, of -> 1, let -> 1, different -> 1, naan!!! -> 1, you -> 2, 10 -> 1, korma. -> 1, you'll -> 1, in -> 1, is -> 1, did! -> 1, curry -> 1, delicious. -> 1, something -> 1, deter -> 1, the -> 2, with -> 1, new! -> 1, outside -> 1, lamb -> 1, glad -> 1, try -> 1, favorite -> 1, changed -> 1}                                                                                                                                                                                                                                                                                                                                                                                                                                                                                                                                                                                                                                                                                                                                                                                                                                                                                                                         |\n",
      "|4    |Cute interior and owner (?) gave us tour of upcoming patio/rooftop area which will be great on beautiful days like today. Cheese curds were very good and very filling. Really like that sandwiches come w salad, esp after eating too many curds! Had the onion, gruyere, tomato sandwich. Wasn't too much cheese which I liked. Needed something else...pepper jelly maybe. Would like to see more menu options added such as salads w fun cheeses. Lots of beer and wine as well as limited cocktails. Next time I will try one of the draft wines.                                                                                                                                                                                                                                                                                                       |[cute, interior, and, owner, (?), gave, us, tour, of, upcoming, patio/rooftop, area, which, will, be, great, on, beautiful, days, like, today., cheese, curds, were, very, good, and, very, filling., really, like, that, sandwiches, come, w, salad,, esp, after, eating, too, many, curds!, had, the, onion,, gruyere,, tomato, sandwich., wasn't, too, much, cheese, which, i, liked., needed, something, else...pepper, jelly, maybe., would, like, to, see, more, menu, options, added, such, as, salads, w, fun, cheeses., lots, of, beer, and, wine, as, well, as, limited, cocktails., next, time, i, will, try, one, of, the, draft, wines.]                                                                                                                                                                                                                                                                                                                                                                  |(262144,[0,1,3,5,7,16,19,22,24,28,29,30,34,40,41,47,48,52,56,59,62,75,81,82,105,107,114,121,125,146,148,151,157,167,172,185,226,242,255,299,356,376,406,414,420,435,438,461,474,720,726,745,900,981,1020,1026,1134,1195,1349,1382,2458,2521,2586,3200,4208,5043,5925,7009,7062,8337,9402,10033,10300,10959,39034,58443],[2.0,3.0,2.0,1.0,3.0,1.0,1.0,1.0,1.0,1.0,3.0,2.0,1.0,1.0,3.0,1.0,1.0,2.0,1.0,1.0,2.0,1.0,1.0,1.0,1.0,1.0,1.0,2.0,1.0,1.0,1.0,1.0,1.0,1.0,2.0,1.0,1.0,1.0,1.0,1.0,1.0,1.0,1.0,1.0,1.0,1.0,1.0,1.0,1.0,1.0,1.0,1.0,1.0,1.0,1.0,1.0,1.0,1.0,1.0,1.0,1.0,1.0,2.0,1.0,1.0,1.0,1.0,1.0,1.0,1.0,1.0,1.0,1.0,1.0,1.0,1.0])                                                                                                                                                                                                                                                                                                 |{very -> 2, esp -> 1, added -> 1, cheeses. -> 1, sandwiches -> 1, had -> 1, salad, -> 1, good -> 1, cheese -> 2, wasn't -> 1, beautiful -> 1, that -> 1, would -> 1, draft -> 1, options -> 1, filling. -> 1, beer -> 1, us -> 1, area -> 1, which -> 2, like -> 3, curds! -> 1, onion, -> 1, come -> 1, something -> 1, today. -> 1, as -> 3, sandwich. -> 1, were -> 1, gave -> 1, try -> 1, gruyere, -> 1, wine -> 1, much -> 1, next -> 1, be -> 1, needed -> 1, maybe. -> 1, tomato -> 1, cute -> 1, interior -> 1, see -> 1, salads -> 1, too -> 2, and -> 3, of -> 3, jelly -> 1, after -> 1, on -> 1, owner -> 1, cocktails. -> 1, liked. -> 1, limited -> 1, will -> 2, curds -> 1, more -> 1, one -> 1, i -> 2, eating -> 1, many -> 1, menu -> 1, great -> 1, tour -> 1, really -> 1, wines. -> 1, lots -> 1, the -> 2, such -> 1, (?) -> 1, w -> 2, days -> 1, well -> 1, time -> 1, to -> 1, upcoming -> 1, fun -> 1}                                                                                                                                                                                                                                                                                                                                                                                                                                |\n",
      "+-----+-------------------------------------------------------------------------------------------------------------------------------------------------------------------------------------------------------------------------------------------------------------------------------------------------------------------------------------------------------------------------------------------------------------------------------------------------------------------------------------------------------------------------------------------------------------------------------------------------------------------------------------------------------------------------------------------------------------------------------------------------------------------------------------------------------------------------------------------------------------+-----------------------------------------------------------------------------------------------------------------------------------------------------------------------------------------------------------------------------------------------------------------------------------------------------------------------------------------------------------------------------------------------------------------------------------------------------------------------------------------------------------------------------------------------------------------------------------------------------------------------------------------------------------------------------------------------------------------------------------------------------------------------------------------------------------------------------------------------------------------------------------------------------------------------------------------------------------------------------------------------------------------------+-------------------------------------------------------------------------------------------------------------------------------------------------------------------------------------------------------------------------------------------------------------------------------------------------------------------------------------------------------------------------------------------------------------------------------------------------------------------------------------------------------------------------------------------------------------------------------------------------------------------------------------------------------------------------------------------------------------------------------------------------------------------------------------------------------------------------------------------------------------------------------------------------------------------------------------------+------------------------------------------------------------------------------------------------------------------------------------------------------------------------------------------------------------------------------------------------------------------------------------------------------------------------------------------------------------------------------------------------------------------------------------------------------------------------------------------------------------------------------------------------------------------------------------------------------------------------------------------------------------------------------------------------------------------------------------------------------------------------------------------------------------------------------------------------------------------------------------------------------------------------------------------------------------------------------------------------------------------------------------------------------------------------------------------------------------------------------------------------------------------------------------------------------------------------------------------------------------------------------------------------------------------------------------------------------------------+\n",
      "only showing top 5 rows\n",
      "\n"
     ]
    }
   ],
   "source": [
    "from pyspark.sql.types import ArrayType, StringType\n",
    "from pyspark.sql.functions import udf\n",
    "from pyspark.sql.types import *\n",
    "schema = StructType([\n",
    "    StructField(\"stars\", DecimalType(), False),\n",
    "    StructField(\"dict\", MapType(StringType(),DecimalType()), False)\n",
    "])\n",
    "\n",
    "def indices_to_terms(vocabulary):\n",
    "    def indices_to_terms(xs):\n",
    "        sv = xs\n",
    "        mydict = {}\n",
    "        for i in list(sv.indices):\n",
    "            print(i)\n",
    "            mydict[vocabulary[int(i)]] = int(sv[int(i)])\n",
    "        return mydict\n",
    "    return udf(indices_to_terms, MapType(StringType(),IntegerType()))\n",
    "\n",
    "counted.withColumn(\"result\", indices_to_terms(cvModel.vocabulary)(\"features\")).show(5, False)"
   ]
  },
  {
   "cell_type": "code",
   "execution_count": 16,
   "id": "43ced977",
   "metadata": {},
   "outputs": [
    {
     "data": {
      "text/plain": [
       "1671298604.1594517"
      ]
     },
     "execution_count": 16,
     "metadata": {},
     "output_type": "execute_result"
    }
   ],
   "source": [
    "time.time()"
   ]
  },
  {
   "cell_type": "code",
   "execution_count": null,
   "id": "d3448ad0",
   "metadata": {},
   "outputs": [],
   "source": []
  }
 ],
 "metadata": {
  "kernelspec": {
   "display_name": "Python 3 (ipykernel)",
   "language": "python",
   "name": "python3"
  },
  "language_info": {
   "codemirror_mode": {
    "name": "ipython",
    "version": 3
   },
   "file_extension": ".py",
   "mimetype": "text/x-python",
   "name": "python",
   "nbconvert_exporter": "python",
   "pygments_lexer": "ipython3",
   "version": "3.11.0"
  }
 },
 "nbformat": 4,
 "nbformat_minor": 5
}
